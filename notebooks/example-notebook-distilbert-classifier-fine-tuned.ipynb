{
 "cells": [
  {
   "cell_type": "code",
   "execution_count": 1,
   "metadata": {},
   "outputs": [
    {
     "name": "stdout",
     "output_type": "stream",
     "text": [
      "Python 3.8.18\n"
     ]
    }
   ],
   "source": [
    "# Show python version\n",
    "!python --version"
   ]
  },
  {
   "cell_type": "code",
   "execution_count": 2,
   "metadata": {},
   "outputs": [
    {
     "name": "stdout",
     "output_type": "stream",
     "text": [
      "Device: mps\n"
     ]
    }
   ],
   "source": [
    "import torch\n",
    "\n",
    "if torch.cuda.is_available():\n",
    "    device = torch.device(\"cuda:0\")\n",
    "elif torch.backends.mps.is_available():\n",
    "    device = torch.device(\"mps\")\n",
    "else:\n",
    "    device = torch.device(\"cpu\")\n",
    "\n",
    "print(f\"Device: {device}\")"
   ]
  },
  {
   "cell_type": "code",
   "execution_count": 3,
   "metadata": {},
   "outputs": [
    {
     "name": "stderr",
     "output_type": "stream",
     "text": [
      "/Users/marencordts/Documents/GitHub/2023-fall-cs-194-294-merging-llms/.venv/lib/python3.8/site-packages/tqdm/auto.py:21: TqdmWarning: IProgress not found. Please update jupyter and ipywidgets. See https://ipywidgets.readthedocs.io/en/stable/user_install.html\n",
      "  from .autonotebook import tqdm as notebook_tqdm\n"
     ]
    },
    {
     "ename": "ModuleNotFoundError",
     "evalue": "No module named 'evaluate'",
     "output_type": "error",
     "traceback": [
      "\u001b[0;31m---------------------------------------------------------------------------\u001b[0m",
      "\u001b[0;31mModuleNotFoundError\u001b[0m                       Traceback (most recent call last)",
      "\u001b[1;32m/Users/marencordts/Documents/GitHub/2023-fall-cs-194-294-merging-llms/notebooks/example-notebook-distilbert-classifier-fine-tuned.ipynb Cell 3\u001b[0m line \u001b[0;36m4\n\u001b[1;32m      <a href='vscode-notebook-cell:/Users/marencordts/Documents/GitHub/2023-fall-cs-194-294-merging-llms/notebooks/example-notebook-distilbert-classifier-fine-tuned.ipynb#W2sZmlsZQ%3D%3D?line=0'>1</a>\u001b[0m \u001b[39m# Train a model on the sms_spam dataset\u001b[39;00m\n\u001b[1;32m      <a href='vscode-notebook-cell:/Users/marencordts/Documents/GitHub/2023-fall-cs-194-294-merging-llms/notebooks/example-notebook-distilbert-classifier-fine-tuned.ipynb#W2sZmlsZQ%3D%3D?line=2'>3</a>\u001b[0m \u001b[39mfrom\u001b[39;00m \u001b[39mdatasets\u001b[39;00m \u001b[39mimport\u001b[39;00m load_dataset\n\u001b[0;32m----> <a href='vscode-notebook-cell:/Users/marencordts/Documents/GitHub/2023-fall-cs-194-294-merging-llms/notebooks/example-notebook-distilbert-classifier-fine-tuned.ipynb#W2sZmlsZQ%3D%3D?line=3'>4</a>\u001b[0m \u001b[39mimport\u001b[39;00m \u001b[39mevaluate\u001b[39;00m\n\u001b[1;32m      <a href='vscode-notebook-cell:/Users/marencordts/Documents/GitHub/2023-fall-cs-194-294-merging-llms/notebooks/example-notebook-distilbert-classifier-fine-tuned.ipynb#W2sZmlsZQ%3D%3D?line=4'>5</a>\u001b[0m \u001b[39mfrom\u001b[39;00m \u001b[39mtransformers\u001b[39;00m \u001b[39mimport\u001b[39;00m AutoTokenizer, AutoModelForSequenceClassification, DataCollatorWithPadding, TrainingArguments, Trainer\n\u001b[1;32m      <a href='vscode-notebook-cell:/Users/marencordts/Documents/GitHub/2023-fall-cs-194-294-merging-llms/notebooks/example-notebook-distilbert-classifier-fine-tuned.ipynb#W2sZmlsZQ%3D%3D?line=6'>7</a>\u001b[0m \u001b[39mimport\u001b[39;00m \u001b[39mnumpy\u001b[39;00m \u001b[39mas\u001b[39;00m \u001b[39mnp\u001b[39;00m\n",
      "\u001b[0;31mModuleNotFoundError\u001b[0m: No module named 'evaluate'"
     ]
    }
   ],
   "source": [
    "# Train a model on the sms_spam dataset\n",
    "\n",
    "from datasets import load_dataset\n",
    "import evaluate\n",
    "from transformers import AutoTokenizer, AutoModelForSequenceClassification, DataCollatorWithPadding, TrainingArguments, Trainer\n",
    "\n",
    "import numpy as np\n",
    "\n",
    "splits = [\"train\", \"test\"]\n",
    "\n",
    "# The sms_spam dataset only has a train split, so we use the train_test_split method to split it into train and test\n",
    "dataset = load_dataset(\"sms_spam\", split=\"train\").train_test_split(test_size=0.2, shuffle=True, seed=23)\n",
    "tokenizer = AutoTokenizer.from_pretrained(\"distilbert-base-uncased\")\n",
    "\n",
    "tokenized_dataset = {}\n",
    "for split in splits:\n",
    "    tokenized_dataset[split] = dataset[split].map(lambda x: tokenizer(x[\"sms\"], truncation=True), batched=True)\n",
    "\n",
    "accuracy = evaluate.load(\"accuracy\")\n",
    "\n",
    "def compute_metrics(eval_pred):\n",
    "    predictions, labels = eval_pred\n",
    "    predictions = np.argmax(predictions, axis=1)\n",
    "    return accuracy.compute(predictions=predictions, references=labels)\n",
    "\n",
    "id2label = {0: \"not spam\", 1: \"spam\"}\n",
    "label2id = {\"not spam\": 0, \"spam\": 1}\n",
    "\n",
    "# https://huggingface.co/transformers/v3.0.2/model_doc/auto.html#automodelforsequenceclassification\n",
    "model = AutoModelForSequenceClassification.from_pretrained(\n",
    "    \"distilbert-base-uncased\", num_labels=2, id2label=id2label, label2id=label2id\n",
    ")\n",
    "\n",
    "# Unfreeze all the model parameters.\n",
    "for param in model.parameters():\n",
    "    param.requires_grad = True\n",
    "\n",
    "# The HuggingFace Trainer class handles the training and eval loop for PyTorch for us.\n",
    "# Read more about it here https://huggingface.co/docs/transformers/main_classes/trainer \n",
    "trainer = Trainer(\n",
    "    model=model,\n",
    "    args=TrainingArguments(\n",
    "        output_dir=\"./data/sentiment_analysis\",\n",
    "        learning_rate=2e-5,\n",
    "        # Reduce the batch size if you don't have enough memory\n",
    "        per_device_train_batch_size=16,\n",
    "        per_device_eval_batch_size=16,\n",
    "        num_train_epochs=2,\n",
    "        weight_decay=0.01,\n",
    "        evaluation_strategy=\"epoch\",\n",
    "        save_strategy=\"epoch\",\n",
    "        load_best_model_at_end=True,\n",
    "        push_to_hub=False,\n",
    "\n",
    "    ),\n",
    "    train_dataset=tokenized_dataset[\"train\"],\n",
    "    eval_dataset=tokenized_dataset[\"test\"],\n",
    "    tokenizer=tokenizer,\n",
    "    data_collator=DataCollatorWithPadding(tokenizer=tokenizer),\n",
    "    compute_metrics=compute_metrics,\n",
    ")\n",
    "\n",
    "trainer.train()\n",
    "\n"
   ]
  },
  {
   "cell_type": "code",
   "execution_count": null,
   "metadata": {},
   "outputs": [
    {
     "ename": "NameError",
     "evalue": "name 'tokenized_dataset' is not defined",
     "output_type": "error",
     "traceback": [
      "\u001b[0;31m---------------------------------------------------------------------------\u001b[0m",
      "\u001b[0;31mNameError\u001b[0m                                 Traceback (most recent call last)",
      "\u001b[1;32m/Users/marencordts/Documents/GitHub/2023-fall-cs-194-294-merging-llms/notebooks/example-notebook-distilbert-classifier-fine-tuned.ipynb Cell 4\u001b[0m line \u001b[0;36m4\n\u001b[1;32m      <a href='vscode-notebook-cell:/Users/marencordts/Documents/GitHub/2023-fall-cs-194-294-merging-llms/notebooks/example-notebook-distilbert-classifier-fine-tuned.ipynb#W3sZmlsZQ%3D%3D?line=0'>1</a>\u001b[0m \u001b[39m# Show some examples from the test set\u001b[39;00m\n\u001b[1;32m      <a href='vscode-notebook-cell:/Users/marencordts/Documents/GitHub/2023-fall-cs-194-294-merging-llms/notebooks/example-notebook-distilbert-classifier-fine-tuned.ipynb#W3sZmlsZQ%3D%3D?line=2'>3</a>\u001b[0m \u001b[39mimport\u001b[39;00m \u001b[39mpandas\u001b[39;00m \u001b[39mas\u001b[39;00m \u001b[39mpd\u001b[39;00m\n\u001b[0;32m----> <a href='vscode-notebook-cell:/Users/marencordts/Documents/GitHub/2023-fall-cs-194-294-merging-llms/notebooks/example-notebook-distilbert-classifier-fine-tuned.ipynb#W3sZmlsZQ%3D%3D?line=3'>4</a>\u001b[0m df \u001b[39m=\u001b[39m pd\u001b[39m.\u001b[39mDataFrame(tokenized_dataset[\u001b[39m\"\u001b[39m\u001b[39mtest\u001b[39m\u001b[39m\"\u001b[39m])\n\u001b[1;32m      <a href='vscode-notebook-cell:/Users/marencordts/Documents/GitHub/2023-fall-cs-194-294-merging-llms/notebooks/example-notebook-distilbert-classifier-fine-tuned.ipynb#W3sZmlsZQ%3D%3D?line=4'>5</a>\u001b[0m df \u001b[39m=\u001b[39m df[[\u001b[39m'\u001b[39m\u001b[39msms\u001b[39m\u001b[39m'\u001b[39m, \u001b[39m'\u001b[39m\u001b[39mlabel\u001b[39m\u001b[39m'\u001b[39m]]\n\u001b[1;32m      <a href='vscode-notebook-cell:/Users/marencordts/Documents/GitHub/2023-fall-cs-194-294-merging-llms/notebooks/example-notebook-distilbert-classifier-fine-tuned.ipynb#W3sZmlsZQ%3D%3D?line=5'>6</a>\u001b[0m df \u001b[39m=\u001b[39m pd\u001b[39m.\u001b[39mconcat(\n\u001b[1;32m      <a href='vscode-notebook-cell:/Users/marencordts/Documents/GitHub/2023-fall-cs-194-294-merging-llms/notebooks/example-notebook-distilbert-classifier-fine-tuned.ipynb#W3sZmlsZQ%3D%3D?line=6'>7</a>\u001b[0m     [\n\u001b[1;32m      <a href='vscode-notebook-cell:/Users/marencordts/Documents/GitHub/2023-fall-cs-194-294-merging-llms/notebooks/example-notebook-distilbert-classifier-fine-tuned.ipynb#W3sZmlsZQ%3D%3D?line=7'>8</a>\u001b[0m         df[df[\u001b[39m'\u001b[39m\u001b[39mlabel\u001b[39m\u001b[39m'\u001b[39m] \u001b[39m==\u001b[39m \u001b[39m0\u001b[39m]\u001b[39m.\u001b[39mhead(\u001b[39m5\u001b[39m),\n\u001b[1;32m      <a href='vscode-notebook-cell:/Users/marencordts/Documents/GitHub/2023-fall-cs-194-294-merging-llms/notebooks/example-notebook-distilbert-classifier-fine-tuned.ipynb#W3sZmlsZQ%3D%3D?line=8'>9</a>\u001b[0m         df[df[\u001b[39m'\u001b[39m\u001b[39mlabel\u001b[39m\u001b[39m'\u001b[39m] \u001b[39m==\u001b[39m \u001b[39m1\u001b[39m]\u001b[39m.\u001b[39mhead(\u001b[39m5\u001b[39m)\n\u001b[1;32m     <a href='vscode-notebook-cell:/Users/marencordts/Documents/GitHub/2023-fall-cs-194-294-merging-llms/notebooks/example-notebook-distilbert-classifier-fine-tuned.ipynb#W3sZmlsZQ%3D%3D?line=9'>10</a>\u001b[0m     ]\n\u001b[1;32m     <a href='vscode-notebook-cell:/Users/marencordts/Documents/GitHub/2023-fall-cs-194-294-merging-llms/notebooks/example-notebook-distilbert-classifier-fine-tuned.ipynb#W3sZmlsZQ%3D%3D?line=10'>11</a>\u001b[0m )\n",
      "\u001b[0;31mNameError\u001b[0m: name 'tokenized_dataset' is not defined"
     ]
    }
   ],
   "source": [
    "# Show some examples from the test set\n",
    "\n",
    "import pandas as pd\n",
    "df = pd.DataFrame(tokenized_dataset[\"test\"])\n",
    "df = df[['sms', 'label']]\n",
    "df = pd.concat(\n",
    "    [\n",
    "        df[df['label'] == 0].head(5),\n",
    "        df[df['label'] == 1].head(5)\n",
    "    ]\n",
    ")\n",
    "pd.set_option('display.max_colwidth', 200)\n",
    "df"
   ]
  }
 ],
 "metadata": {
  "kernelspec": {
   "display_name": "Python 3",
   "language": "python",
   "name": "python3"
  },
  "language_info": {
   "codemirror_mode": {
    "name": "ipython",
    "version": 3
   },
   "file_extension": ".py",
   "mimetype": "text/x-python",
   "name": "python",
   "nbconvert_exporter": "python",
   "pygments_lexer": "ipython3",
   "version": "3.8.18"
  }
 },
 "nbformat": 4,
 "nbformat_minor": 2
}
